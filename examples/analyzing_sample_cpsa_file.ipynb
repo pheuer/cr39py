{
 "cells": [
  {
   "cell_type": "code",
   "execution_count": null,
   "metadata": {},
   "outputs": [],
   "source": [
    "%load_ext autoreload\n",
    "%autoreload 2"
   ]
  },
  {
   "cell_type": "code",
   "execution_count": null,
   "metadata": {},
   "outputs": [],
   "source": [
    "from pathlib import Path\n",
    "import importlib.resources\n",
    "from cr39py import Scan,Cut"
   ]
  },
  {
   "cell_type": "code",
   "execution_count": null,
   "metadata": {},
   "outputs": [],
   "source": [
    "# Load a sample CPSA file bundled with cr39py\n",
    "test_data = Path(importlib.resources.files(\"cr39py\")).parent.parent / Path('test_data')\n",
    "cpsa_path = test_data / Path(\"test_alphas.cpsa\")\n",
    "\n",
    "# Create a Scan object\n",
    "scan = Scan.from_cpsa(cpsa_path, etch_time = 120)\n"
   ]
  },
  {
   "cell_type": "markdown",
   "metadata": {},
   "source": [
    "The `cutplot()` method makes a standard figure that shows the CR39 tracks in several views."
   ]
  },
  {
   "cell_type": "code",
   "execution_count": null,
   "metadata": {},
   "outputs": [],
   "source": [
    "scan.cutplot();"
   ]
  },
  {
   "cell_type": "markdown",
   "metadata": {},
   "source": [
    "Apply a cut to remove high contrast tracks, which are often noise"
   ]
  },
  {
   "cell_type": "code",
   "execution_count": null,
   "metadata": {},
   "outputs": [],
   "source": [
    "scan.add_cut(cmin=30)\n",
    "scan.cutplot()"
   ]
  },
  {
   "cell_type": "markdown",
   "metadata": {},
   "source": [
    "Add a second cut eliminating some lower diameter tracks. This time, to demonstrate another possible interface, we will create the cut first, then pass it to the scan object."
   ]
  },
  {
   "cell_type": "code",
   "execution_count": null,
   "metadata": {},
   "outputs": [],
   "source": [
    "c = Cut(dmin=8)\n",
    "scan.add_cut(c)\n",
    "scan.cutplot();"
   ]
  },
  {
   "cell_type": "markdown",
   "metadata": {},
   "source": [
    "Let's break the data into bins by diameter, which approximately corresponds to different energies. Dslicse are created such that each dslice has an equal number of tracks.\n",
    "\n",
    " The method `set_ndslices` will set the number of dslices for the current subset, and `select_dslice` will then allow us to select different slices. `select_dslicse(None)` will re-select all dslices."
   ]
  },
  {
   "cell_type": "code",
   "execution_count": null,
   "metadata": {},
   "outputs": [],
   "source": [
    "scan.set_ndslices(3)\n",
    "scan.select_dslice(2)\n",
    "scan.cutplot();\n"
   ]
  },
  {
   "cell_type": "markdown",
   "metadata": {},
   "source": [
    "Finally, let's create a new subset on which we can make a separate series of cuts without affecting those on the first subset. `add_subset()` with no argument will create a new, empty subset. Subsets are zero-indexed, so the new subset will be stored at index 1."
   ]
  },
  {
   "cell_type": "code",
   "execution_count": null,
   "metadata": {},
   "outputs": [],
   "source": [
    "scan.add_subset()\n",
    "scan.select_subset(1)\n",
    "scan.cutplot();"
   ]
  },
  {
   "cell_type": "code",
   "execution_count": null,
   "metadata": {},
   "outputs": [],
   "source": [
    "scan.add_cut(dmin=5)\n",
    "scan.cutplot();"
   ]
  }
 ],
 "metadata": {
  "kernelspec": {
   "display_name": "dev312",
   "language": "python",
   "name": "python3"
  },
  "language_info": {
   "codemirror_mode": {
    "name": "ipython",
    "version": 3
   },
   "file_extension": ".py",
   "mimetype": "text/x-python",
   "name": "python",
   "nbconvert_exporter": "python",
   "pygments_lexer": "ipython3",
   "version": "3.12.7"
  }
 },
 "nbformat": 4,
 "nbformat_minor": 2
}
