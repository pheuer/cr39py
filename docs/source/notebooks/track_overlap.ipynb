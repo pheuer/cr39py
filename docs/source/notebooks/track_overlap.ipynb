{
 "cells": [
  {
   "cell_type": "markdown",
   "metadata": {},
   "source": [
    "# Track overlap vs. Fluence"
   ]
  },
  {
   "cell_type": "code",
   "execution_count": null,
   "metadata": {},
   "outputs": [],
   "source": [
    "import numpy as np\n",
    "import matplotlib.pyplot as plt\n",
    "from cr39py.etch.tools import overlap_fraction\n",
    "from cr39py.etch.track_overlap_mc import MonteCarloTrackOverlap"
   ]
  },
  {
   "cell_type": "markdown",
   "metadata": {},
   "source": [
    "As the fluence on a piece of CR-39 increases, so does the chance that two or more tracks may overlap. While in principle it is possible to detect partially overlapping tracks and count them correctly, current generation scanning technology typically attempts to discard these tracks. The result is that, as fluence increases, the effective detection efficency of CR-39 begins to decrease.\n",
    "\n",
    "cr39py includes a simple Monte-Carlo simulation tool, inspired by A.B. Zylstra et al. 2012, to calculate the fraction of overlapped tracks."
   ]
  },
  {
   "cell_type": "code",
   "execution_count": null,
   "metadata": {},
   "outputs": [],
   "source": [
    "mc = MonteCarloTrackOverlap(framesize=300, border=20, diameters_mean=10, diameters_std=0)\n",
    "xyd = mc.draw_tracks(300)\n",
    "mc.plot_tracks(xyd)"
   ]
  },
  {
   "cell_type": "markdown",
   "metadata": {},
   "source": [
    "The simulation class includes methods to run large numbers of these simulations in parallel, which generally take at least several minutes to complete. However, A.B. Zylstra et al. 2012 shows that the resulting track overlap vs. fluence curves can be made unique if expressed as a function of a dimensionless parameter\n",
    "\n",
    "$$\n",
    "\\chi = \\eta \\bar D^2\n",
    "$$\n",
    "\n",
    "Where $\\eta$ is the fluence in tracks/cm^2 and $\\bar D$ is the mean track diameter in the frame. The resulting output curves are bundled with cr39py, and can be interpolated over using the `overlap_fraction` function."
   ]
  },
  {
   "cell_type": "code",
   "execution_count": null,
   "metadata": {},
   "outputs": [],
   "source": [
    "fig, ax = plt.subplots(figsize=(6,6))\n",
    "ax.set_xlabel(\"$\\chi$\")\n",
    "ax.set_ylabel(\"$F_n$\")\n",
    "ax.set_ylim(0,1)\n",
    "chi = np.linspace(0,3,num=200)\n",
    "fluence = chi / (6*1e-4)**2 # Fluence for 6 um OD tracks in tracks/cm^2\n",
    "ax2 = ax.twiny()\n",
    "ax2.set_xlim(np.min(fluence), np.max(fluence))\n",
    "ax2.set_xlabel(\"Fluence (tracks/cm$^2$, 6 um OD tracks)\")\n",
    "\n",
    "for Fnum in [1,-1, 2,3,4]:\n",
    "    Fn = overlap_fraction(Fnum,chi=chi)\n",
    "    match Fnum:\n",
    "        case -1:\n",
    "            lbl = '1-$F_1$'\n",
    "        case 4:\n",
    "            lbl = '$F_{4+}$'\n",
    "        case _:\n",
    "            lbl = f'$F_{Fnum}$'        \n",
    "    ax.plot(chi,Fn, label=lbl)\n",
    "    \n",
    "F1_zylstra = 1 - chi\n",
    "F2_zylstra = chi*(1-2*chi/3)\n",
    "ax.plot(chi, F1_zylstra, label='$F_1$ (Zylstra)', color='k', linestyle='dashed')\n",
    "ax.plot(chi, F2_zylstra, label='$F_2$ (Zylstra)', color='k', linestyle='dotted')\n",
    "ax.legend(loc='upper right');"
   ]
  },
  {
   "cell_type": "markdown",
   "metadata": {},
   "source": [
    "As the fluence increases, the fraction of tracks with no overlapping tracks ($F_1$) decreases, while the fraction of tracks with overlaps increases. \n",
    "\n",
    "A.B. Zylstra et al. 2012 derives approximate functions for $F_1$ and $F_2$ \n",
    "\n",
    "$$\n",
    "F_1 = 1 - \\chi \\\\\n",
    "F_2 = \\chi(1-2\\chi/3)\n",
    "$$\n",
    "\n",
    "We see that these models fit well only for relatively low fluence, $\\chi < 0.3$\n",
    "\n",
    "Since only some limited degree of track overlap is generally tolerable, these curves can be used to determine the approximate maximum acceptable fluence for a given track diameter."
   ]
  }
 ],
 "metadata": {
  "kernelspec": {
   "display_name": "msco",
   "language": "python",
   "name": "python3"
  },
  "language_info": {
   "codemirror_mode": {
    "name": "ipython",
    "version": 3
   },
   "file_extension": ".py",
   "mimetype": "text/x-python",
   "name": "python",
   "nbconvert_exporter": "python",
   "pygments_lexer": "ipython3",
   "version": "3.12.9"
  }
 },
 "nbformat": 4,
 "nbformat_minor": 2
}
