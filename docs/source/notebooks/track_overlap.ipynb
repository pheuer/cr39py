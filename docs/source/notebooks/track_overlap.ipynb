{
 "cells": [
  {
   "cell_type": "markdown",
   "metadata": {},
   "source": [
    "# Track overlap vs. Fluence"
   ]
  },
  {
   "cell_type": "code",
   "execution_count": null,
   "metadata": {},
   "outputs": [],
   "source": [
    "import numpy as np\n",
    "import matplotlib.pyplot as plt\n",
    "from cr39py.etch.overlap import single_diameter_overlap_fraction, mrn_overlap_fraction, mrn_distribution\n",
    "from cr39py.etch.track_overlap_mc import MonteCarloTrackOverlap"
   ]
  },
  {
   "cell_type": "markdown",
   "metadata": {},
   "source": [
    "As the fluence on a piece of CR-39 increases, so does the chance that two or more tracks may overlap. While in principle it is possible to detect partially overlapping tracks and count them correctly, current generation scanning technology typically attempts to discard these tracks. The result is that, as fluence increases, the effective detection efficency of CR-39 begins to decrease.\n",
    "\n",
    "cr39py includes a simple Monte-Carlo simulation tool, inspired by A.B. Zylstra et al. 2012, to calculate the fraction of overlapped tracks."
   ]
  },
  {
   "cell_type": "code",
   "execution_count": null,
   "metadata": {
    "tags": [
     "nbsphinx-thumbnail"
    ]
   },
   "outputs": [],
   "source": [
    "mc = MonteCarloTrackOverlap(framesize=300, border=20, diameters_mean=10, diameters_std=0)\n",
    "xyd = mc.draw_tracks(300)\n",
    "mc.plot_tracks(xyd)"
   ]
  },
  {
   "cell_type": "markdown",
   "metadata": {},
   "source": [
    "The simulation class includes methods to run large numbers of these simulations in parallel, which generally take at least several minutes to complete."
   ]
  },
  {
   "cell_type": "markdown",
   "metadata": {},
   "source": [
    "## Track overlap curves \n",
    "\n",
    "A.B. Zylstra et al. 2012 introduced definitions for track overlap fractions. In cr39py, track overlap curve Fn is:\n",
    "- F1 is the fraction of tracks with no overlaps.\n",
    "- F2 is the fraction of tracks with one overlapping track.\n",
    "- F3 is the fraction of tracks with two overlapping tracks.\n",
    "- F4+ is the fraction of tracks with three or more overlapping tracks. \n",
    "\n",
    "Commonly, we want the fraction of tracks with one or more overlaps, 1-F1, since this is the fraction of tracks that are \n",
    "essentially lost during scanning.\n",
    "\n",
    "Note that this definition is slightly different from the one in A.B. Zylstra et al. 2012, where tracks in a cluster of three tracks,\n",
    "each of which overlap one of the others, are assigned F=3, rather than F=2.\n",
    "\n"
   ]
  },
  {
   "cell_type": "markdown",
   "metadata": {},
   "source": [
    "## Overlap fraction for single-diameter or Gaussian track diameter distributions\n",
    "\n",
    "A.B. Zylstra et al. 2012 simulated track overlap curves for distributions of tracks with either a single diameter or a Gaussian distribution of diameters. For single diameter distributions, or Gaussian distributions with small widths, Zylstra et al. show that the resulting track overlap vs. fluence curves can be made unique if expressed as a function of a dimensionless parameter\n",
    "\n",
    "$$\n",
    "\\chi = \\eta \\bar D^2\n",
    "$$\n",
    "\n",
    "Where $\\eta$ is the fluence in tracks/cm^2 and $\\bar D$ is the mean track diameter in the frame. The resulting output curves are bundled with cr39py, and can be interpolated over using the `single_diameter_overlap_fraction` function."
   ]
  },
  {
   "cell_type": "code",
   "execution_count": null,
   "metadata": {},
   "outputs": [],
   "source": [
    "fig, ax = plt.subplots(figsize=(6,6))\n",
    "ax.set_xlabel(\"$\\chi$\")\n",
    "ax.set_ylabel(\"$F_n$\")\n",
    "ax.set_ylim(0,1)\n",
    "chi = np.linspace(0,3,num=200)\n",
    "fluence = chi / (6*1e-4)**2 # Fluence for 6 um OD tracks in tracks/cm^2\n",
    "ax2 = ax.twiny()\n",
    "ax2.set_xlim(np.min(fluence), np.max(fluence))\n",
    "ax2.set_xlabel(\"Fluence (tracks/cm$^2$, 6 um OD tracks)\")\n",
    "\n",
    "for Fnum in [1,-1, 2,3,4]:\n",
    "    Fn = single_diameter_overlap_fraction(Fnum,chi=chi)\n",
    "    match Fnum:\n",
    "        case -1:\n",
    "            lbl = '1-$F_1$'\n",
    "        case 4:\n",
    "            lbl = '$F_{4+}$'\n",
    "        case _:\n",
    "            lbl = f'$F_{Fnum}$'        \n",
    "    ax.plot(chi,Fn, label=lbl)\n",
    "    \n",
    "F1_zylstra = 1 - chi\n",
    "F2_zylstra = chi*(1-2*chi/3)\n",
    "ax.plot(chi, F1_zylstra, label='$F_1$ (Zylstra)', color='k', linestyle='dashed')\n",
    "ax.plot(chi, F2_zylstra, label='$F_2$ (Zylstra)', color='k', linestyle='dotted')\n",
    "ax.legend(loc='upper right');"
   ]
  },
  {
   "cell_type": "markdown",
   "metadata": {},
   "source": [
    "As the fluence increases, the fraction of tracks with no overlapping tracks ($F_1$) decreases, while the fraction of tracks with overlaps increases. \n",
    "\n",
    "A.B. Zylstra et al. 2012 derives approximate functions for $F_1$ and $F_2$ \n",
    "\n",
    "$$\n",
    "F_1 = 1 - \\chi \\\\\n",
    "F_2 = \\chi(1-2\\chi/3)\n",
    "$$\n",
    "\n",
    "As noted in the paper, we see that these models fit well only for relatively low fluence, $\\chi < 0.3$\n",
    "\n",
    "Since only some limited degree of track overlap is generally tolerable, these curves can be used to determine the approximate maximum acceptable fluence for a given track diameter."
   ]
  },
  {
   "cell_type": "markdown",
   "metadata": {},
   "source": [
    "## Track overlap curves for realistic CR-39 track diameter distributions\n",
    "\n",
    "While particles collected on CR-39 often originally have a Gaussian energy distribution, they typically pass through filtration prior to reaching the CR-39. By definition, particles of interest pass near their Bragg peak in the filtration, introducing some skew in the output energy distribution. The energy to diameter function given by the B. Lahmann et al. two parameter model is also non-linear. As a result, the actual diameter distribution on the CR-39 is often better described using the following function \n",
    "\n",
    "\\begin{equation}\n",
    "P(d) \\propto \\exp[-\\frac{(d_{max}/d-1)^2}{2\\sigma^2}]\n",
    "\\end{equation}\n",
    "\n",
    "Because of its similarity to the [Reciprocal Normal Distribution](https://en.wikipedia.org/wiki/Inverse_distribution#Reciprocal_normal_distribution), we refer to this as the Modified Reciprocal Normal (MRN) distribution. \n",
    "\n",
    "The modifications here provide a physical meaning for the parameters: $d_{max}$ is the most probable diameter (peak of the distribution) in $\\mu$m while $\\sigma$ remains the standard deviation of the input Gaussian energy distribution."
   ]
  },
  {
   "cell_type": "code",
   "execution_count": null,
   "metadata": {},
   "outputs": [],
   "source": [
    "dax = np.linspace(0.1, 20, num=100)\n",
    "dmax_array = [2,5,8,10]\n",
    "sigma = 0.3\n",
    "\n",
    "\n",
    "fig, ax = plt.subplots()\n",
    "for dmax in dmax_array:\n",
    "    mrn = mrn_distribution(dax, dmax, sigma)\n",
    "    ax.plot(dax, mrn, label=f'Dmax={dmax:.0f} um')\n",
    "ax.set_xlabel(\"Diameter (um)\")\n",
    "ax.set_ylabel(\"P(d)\")\n",
    "ax.set_title(f\"$\\sigma$ = {sigma:.2f} MeV\")\n",
    "ax.legend(loc='upper right');"
   ]
  },
  {
   "cell_type": "markdown",
   "metadata": {},
   "source": [
    "Unlike with the single-diameter and narrow Gaussian distributions discused above, the track overlap curves for the MRN distribution cannot be made unique with respect to $d_{max}$ by parametrizing them with a scaled fluence analagous to $\\chi$. So, these curves are tabulated in cr39py over a range of fluence, $d_{max}$, and $\\sigma$ values, and interpolated with the following function."
   ]
  },
  {
   "cell_type": "code",
   "execution_count": null,
   "metadata": {},
   "outputs": [],
   "source": [
    "fig, ax = plt.subplots()\n",
    "ax.set_title(\"MRN Overlap Fraction\")\n",
    "ax.set_xscale('log')\n",
    "ax.set_xlabel(\"Tracks/cm$^2$\")\n",
    "ax.set_ylabel(\"$F_n$\")\n",
    "\n",
    "fluences = np.logspace(4, 6, num=100)\n",
    "for fn in [1,2,3,4]:\n",
    "    farr = mrn_overlap_fraction(fn, fluences, 10, 0.6)\n",
    "    ax.plot(fluences, farr, label=f'$F_{fn}$')\n",
    "ax.legend(loc='upper right');\n",
    "    "
   ]
  }
 ],
 "metadata": {
  "kernelspec": {
   "display_name": "dev312",
   "language": "python",
   "name": "python3"
  },
  "language_info": {
   "codemirror_mode": {
    "name": "ipython",
    "version": 3
   },
   "file_extension": ".py",
   "mimetype": "text/x-python",
   "name": "python",
   "nbconvert_exporter": "python",
   "pygments_lexer": "ipython3",
   "version": "3.12.9"
  }
 },
 "nbformat": 4,
 "nbformat_minor": 2
}
