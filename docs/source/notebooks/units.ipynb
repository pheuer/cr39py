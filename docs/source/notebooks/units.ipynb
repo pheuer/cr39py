{
 "cells": [
  {
   "cell_type": "markdown",
   "metadata": {},
   "source": [
    "# Using Units"
   ]
  },
  {
   "cell_type": "code",
   "execution_count": null,
   "metadata": {},
   "outputs": [],
   "source": [
    "import numpy as np\n",
    "from cr39py import Layer"
   ]
  },
  {
   "cell_type": "markdown",
   "metadata": {},
   "source": [
    "Unit packages allow us to represent quantities as `Quantity` objects, including units, rather than just as arrays. This allows features like automatic unit conversion and dimensional analysis. Fortunately, python has a number of packages that can do this, including [pint](https://pint.readthedocs.io/en/stable/), [astropy](https://docs.astropy.org/en/stable/units/index.html), and [unyt](https://unyt.readthedocs.io/en/stable/). The different packages are not interoperable, but are conceptually similar.\n",
    "\n",
    "`cr39py` uses the python unit package [pint](https://pint.readthedocs.io/en/stable/) to manage units. Units are instantiated using the unit registry, which can be imported from cr39py."
   ]
  },
  {
   "cell_type": "code",
   "execution_count": null,
   "metadata": {},
   "outputs": [],
   "source": [
    "from cr39py import u"
   ]
  },
  {
   "cell_type": "markdown",
   "metadata": {},
   "source": [
    "Quantities can be created by multiplying units with numbers or numpy arrays"
   ]
  },
  {
   "cell_type": "code",
   "execution_count": null,
   "metadata": {},
   "outputs": [],
   "source": [
    "t = 2 * u.s\n",
    "x = 4*u.m\n",
    "y = np.array([1,4])*u.km/u.ns\n",
    "print(type(x))\n",
    "print(x,t)\n",
    "print(y)"
   ]
  },
  {
   "cell_type": "markdown",
   "metadata": {},
   "source": [
    "Operations between quantity objecte will return a result with the appropriate units"
   ]
  },
  {
   "cell_type": "code",
   "execution_count": null,
   "metadata": {},
   "outputs": [],
   "source": [
    "v = x/t\n",
    "print(v)"
   ]
  },
  {
   "cell_type": "markdown",
   "metadata": {},
   "source": [
    "Units can be converted"
   ]
  },
  {
   "cell_type": "code",
   "execution_count": null,
   "metadata": {},
   "outputs": [],
   "source": [
    "print(v.to(u.um/u.ps))"
   ]
  },
  {
   "cell_type": "markdown",
   "metadata": {},
   "source": [
    "And separated into unit strings and numeric types"
   ]
  },
  {
   "cell_type": "code",
   "execution_count": null,
   "metadata": {},
   "outputs": [],
   "source": [
    "print(v.m)\n",
    "print(v.u)"
   ]
  },
  {
   "cell_type": "markdown",
   "metadata": {},
   "source": [
    "Convenience functions exist to do both conversion and take the magnitude at once"
   ]
  },
  {
   "cell_type": "code",
   "execution_count": null,
   "metadata": {},
   "outputs": [],
   "source": [
    "print(v.m_as(u.nm/u.ps))"
   ]
  },
  {
   "cell_type": "markdown",
   "metadata": {},
   "source": [
    "When using units in `cr39py`, simply include the required units like"
   ]
  },
  {
   "cell_type": "code",
   "execution_count": null,
   "metadata": {},
   "outputs": [],
   "source": [
    "l = Layer.from_properties(thickness=10*u.um, material='Ta')"
   ]
  }
 ],
 "metadata": {
  "kernelspec": {
   "display_name": "msco",
   "language": "python",
   "name": "python3"
  },
  "language_info": {
   "codemirror_mode": {
    "name": "ipython",
    "version": 3
   },
   "file_extension": ".py",
   "mimetype": "text/x-python",
   "name": "python",
   "nbconvert_exporter": "python",
   "pygments_lexer": "ipython3",
   "version": "3.12.9"
  }
 },
 "nbformat": 4,
 "nbformat_minor": 2
}
